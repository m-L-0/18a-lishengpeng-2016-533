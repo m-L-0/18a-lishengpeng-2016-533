{
 "cells": [
  {
   "cell_type": "code",
   "execution_count": 1,
   "metadata": {},
   "outputs": [],
   "source": [
    "import tensorflow as tf"
   ]
  },
  {
   "cell_type": "markdown",
   "metadata": {},
   "source": [
    "1. 在一个notebook文件中构建一张图，实现两个数的加法操作，并在两个不同的会话中执行图。"
   ]
  },
  {
   "cell_type": "code",
   "execution_count": 5,
   "metadata": {},
   "outputs": [
    {
     "name": "stdout",
     "output_type": "stream",
     "text": [
      "<tensorflow.python.framework.ops.Graph object at 0x7fb7343e9160>\n",
      "5\n",
      "<tensorflow.python.framework.ops.Graph object at 0x7fb7343e9160>\n",
      "5\n"
     ]
    }
   ],
   "source": [
    "g = tf.Graph()\n",
    "a = 2\n",
    "b = 3\n",
    "print(g)\n",
    "with g.as_default():\n",
    "    add_op = tf.add(a, b)\n",
    "    sess = tf.Session()\n",
    "    print(sess.run(add_op))\n",
    "    sess.close()\n",
    "with tf.Session(graph=g) as sess:\n",
    "    print(g)\n",
    "    print(sess.run(add_op))"
   ]
  },
  {
   "cell_type": "markdown",
   "metadata": {},
   "source": [
    "2. 查找资料学习TensorFlow中执行常量基本运算API的基本用法，如tf.add、tf.subtract、tf.multiply、tf.divide、tf.mod、tf.pow、tf.square、tf.sqrt等的用法，并在notebook中演示其基本用法。"
   ]
  },
  {
   "cell_type": "code",
   "execution_count": 8,
   "metadata": {},
   "outputs": [
    {
     "name": "stdout",
     "output_type": "stream",
     "text": [
      "5.0\n",
      "-1.0\n",
      "6.0\n",
      "3.0\n",
      "1.0\n",
      "9.0\n",
      "4.0\n",
      "3.0\n",
      "2.0\n"
     ]
    }
   ],
   "source": [
    "a = 2.0\n",
    "b = 3.0\n",
    "add_op = tf.add(a, b) # 3\n",
    "sub_op = tf.subtract(a, b) # -1\n",
    "mul_op = tf.multiply(a, b) # 6\n",
    "div_op = tf.divide(mul_op, a) # 3\n",
    "mod_op = tf.mod(add_op, a) # 1\n",
    "pow_op = tf.pow(b, a) # 9\n",
    "squ_op = tf.square(a) # 4\n",
    "sqr_op1 = tf.sqrt(pow_op) # 3\n",
    "sqr_op2 = tf.sqrt(squ_op) # 2\n",
    "with tf.Session() as sess:\n",
    "    print(sess.run(add_op))\n",
    "    print(sess.run(sub_op))\n",
    "    print(sess.run(mul_op))\n",
    "    print(sess.run(div_op))\n",
    "    print(sess.run(mod_op))\n",
    "    print(sess.run(pow_op))\n",
    "    print(sess.run(squ_op))\n",
    "    print(sess.run(sqr_op1))\n",
    "    print(sess.run(sqr_op2))"
   ]
  },
  {
   "cell_type": "code",
   "execution_count": null,
   "metadata": {},
   "outputs": [],
   "source": []
  }
 ],
 "metadata": {
  "kernelspec": {
   "display_name": "Python 3",
   "language": "python",
   "name": "python3"
  },
  "language_info": {
   "codemirror_mode": {
    "name": "ipython",
    "version": 3
   },
   "file_extension": ".py",
   "mimetype": "text/x-python",
   "name": "python",
   "nbconvert_exporter": "python",
   "pygments_lexer": "ipython3",
   "version": "3.5.2"
  }
 },
 "nbformat": 4,
 "nbformat_minor": 2
}
