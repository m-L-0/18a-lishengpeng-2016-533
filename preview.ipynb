{
 "cells": [
  {
   "cell_type": "code",
   "execution_count": 1,
   "metadata": {},
   "outputs": [],
   "source": [
    "import scipy.io as sio\n",
    "import pandas as pd\n",
    "from pandas import Series, DataFrame\n",
    "from sklearn.preprocessing import Imputer\n",
    "import numpy as np\n",
    "import xgboost as xgb\n",
    "from xgboost import plot_importance\n",
    "from sklearn.model_selection import train_test_split\n",
    "from sklearn import model_selection, metrics\n",
    "# from sklearn.grid_search import GridSearchCV\n",
    "from xgboost.sklearn import XGBClassifier\n",
    "import sys\n",
    "import copy"
   ]
  },
  {
   "cell_type": "code",
   "execution_count": 2,
   "metadata": {},
   "outputs": [
    {
     "data": {
      "text/plain": [
       "{2: 0, 3: 1, 5: 2, 6: 3, 8: 4, 10: 5, 11: 6, 12: 7, 14: 8}"
      ]
     },
     "execution_count": 2,
     "metadata": {},
     "output_type": "execute_result"
    }
   ],
   "source": [
    "# 类别映射\n",
    "idx = [2, 3, 5, 6, 8, 10, 11, 12, 14]\n",
    "_idx = {}\n",
    "j = 0\n",
    "for i in idx:\n",
    "    _idx[i] = j\n",
    "    j += 1\n",
    "_idx"
   ]
  },
  {
   "cell_type": "code",
   "execution_count": 3,
   "metadata": {},
   "outputs": [
    {
     "name": "stdout",
     "output_type": "stream",
     "text": [
      "1071\n",
      "622\n",
      "362\n",
      "547\n",
      "358\n",
      "729\n",
      "1841\n",
      "445\n",
      "949\n",
      "6924\n"
     ]
    }
   ],
   "source": [
    "# read file\n",
    "data_x = []\n",
    "data_y = []\n",
    "test_x = sio.loadmat('data_test_final.mat')\n",
    "test_x = test_x['data_test_final']\n",
    "tot = 0\n",
    "for i in range(9): \n",
    "    key = 'data' + str(idx[i]) + '_train'\n",
    "    tmp = sio.loadmat(key + '.mat')\n",
    "    tmp = tmp[key]\n",
    "    length = len(tmp)\n",
    "    print(length)\n",
    "    tot += length\n",
    "    for j in range(length):\n",
    "        data_x.append(tmp[j])\n",
    "        data_y.append(i)\n",
    "print(tot)"
   ]
  },
  {
   "cell_type": "code",
   "execution_count": 4,
   "metadata": {},
   "outputs": [
    {
     "data": {
      "text/plain": [
       "(0.9776357827476039, 0.9935064935064936, 0.9622641509433962)"
      ]
     },
     "execution_count": 4,
     "metadata": {},
     "output_type": "execute_result"
    }
   ],
   "source": [
    "def fun(par,num_rounds):\n",
    "    x_train, x_valid, y_train, y_valid = train_test_split(data_x, data_y, test_size=0.3)\n",
    "    Dtrain = xgb.DMatrix(x_train, y_train)\n",
    "    # train model\n",
    "    plst=par.items()\n",
    "    model=xgb.train(plst,Dtrain,num_rounds)\n",
    "\n",
    "    # predict valid data set\n",
    "    dvalid = xgb.DMatrix(x_valid)\n",
    "    ans = model.predict(dvalid)\n",
    "    dvalid = xgb.DMatrix(x_valid)\n",
    "    ans = model.predict(dvalid)\n",
    "\n",
    "    # calculate the F1 score\n",
    "    length = len(y_valid)\n",
    "    tp = tn = fp = fn = cnt = 0\n",
    "    for i in range(length):\n",
    "        p,t = ans[i],y_valid[i]\n",
    "        if p == 1 and t == 1:\n",
    "            tp += 1\n",
    "        elif p == 0 and t == 0:\n",
    "            tn += 1\n",
    "        elif p == 1 and t == 0:\n",
    "            fp += 1\n",
    "        elif p == 0 and t == 1:\n",
    "            fn += 1\n",
    "    pp = tp / (tp + fp)\n",
    "    rr = tp / (tp + fn)\n",
    "    f1 = 2 * (pp * rr) / (pp + rr)\n",
    "\n",
    "    # calculate the precision\n",
    "    #for i in range(length):\n",
    "    #    if ans[i] == y_valid1[i]:\n",
    "    #        cnt += 1\n",
    "    #precision = cnt / length\n",
    "    # print(precision)\n",
    "    \n",
    "    test = xgb.DMatrix(test_x)\n",
    "    final = np.array(model.predict(test),dtype='int64')\n",
    "    length = len(final)\n",
    "    for i in range(length):\n",
    "        final[i] = idx[final[i]]\n",
    "    final = pd.DataFrame({'y':final})\n",
    "    file = pd.concat([final],sort=False)\n",
    "    file.to_csv(\"ans.csv\",index=False,sep=',')\n",
    "\n",
    "    return f1, pp, rr\n",
    "params = {\n",
    "    'booster': 'gbtree',\n",
    "    'objective': 'multi:softmax',\n",
    "    'num_class': 9,\n",
    "    'gamma': 0,# 0 ~ 1 0.5 3\n",
    "    'max_depth': 5,# 5 ~ 7 3\n",
    "    'lambda': 1,\n",
    "    'subsample': 0.7,# 0.6 ~ 0.8 0.1 3\n",
    "    'colsample_bytree': 0.7,# 0.6 ~ 0.8 0.1 3\n",
    "    'min_child_weight': 3, # 2 ~ 4 1 3\n",
    "    'eta': 0.1, # 0.09 ~ 0.11 0.01 3\n",
    "#    'seed': 1000,\n",
    "#    nthread : 4\n",
    "    'silent': 1,\n",
    "}\n",
    "fun(params, 200)"
   ]
  },
  {
   "cell_type": "code",
   "execution_count": 5,
   "metadata": {},
   "outputs": [
    {
     "name": "stdout",
     "output_type": "stream",
     "text": [
      "9\n"
     ]
    }
   ],
   "source": [
    "print(len(set(data_y)))"
   ]
  },
  {
   "cell_type": "code",
   "execution_count": null,
   "metadata": {},
   "outputs": [],
   "source": []
  }
 ],
 "metadata": {
  "kernelspec": {
   "display_name": "Python 3",
   "language": "python",
   "name": "python3"
  },
  "language_info": {
   "codemirror_mode": {
    "name": "ipython",
    "version": 3
   },
   "file_extension": ".py",
   "mimetype": "text/x-python",
   "name": "python",
   "nbconvert_exporter": "python",
   "pygments_lexer": "ipython3",
   "version": "3.5.2"
  }
 },
 "nbformat": 4,
 "nbformat_minor": 2
}
