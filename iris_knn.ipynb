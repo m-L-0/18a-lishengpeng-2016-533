{
 "cells": [
  {
   "cell_type": "code",
   "execution_count": 1,
   "metadata": {},
   "outputs": [],
   "source": [
    "# 导入必要的包\n",
    "import numpy as np\n",
    "import tensorflow as tf\n",
    "from sklearn.datasets import load_iris\n",
    "from sklearn.model_selection import train_test_split\n",
    "from collections import Counter\n",
    "import heapq"
   ]
  },
  {
   "cell_type": "code",
   "execution_count": 2,
   "metadata": {},
   "outputs": [],
   "source": [
    "# 数据集划分\n",
    "iris = load_iris()\n",
    "x_train, x_test, y_train, y_test = train_test_split(iris.data, iris.target, \n",
    "                                                    test_size=0.2, random_state=666)"
   ]
  },
  {
   "cell_type": "code",
   "execution_count": 3,
   "metadata": {},
   "outputs": [],
   "source": [
    "# 设计相关变量和操作\n",
    "train = tf.placeholder(tf.float32, [120, 4])\n",
    "test = tf.placeholder(tf.float32, [4])\n",
    "k = tf.placeholder(tf.int8)\n",
    "dist=tf.reduce_sum(tf.sqrt(tf.pow(train - test, 2)),reduction_indices=1)\n",
    "init = tf.global_variables_initializer()"
   ]
  },
  {
   "cell_type": "code",
   "execution_count": 4,
   "metadata": {},
   "outputs": [
    {
     "name": "stdout",
     "output_type": "stream",
     "text": [
      "k= 1 正确率 1.0\n",
      "k= 2 正确率 0.9666666666666667\n",
      "k= 3 正确率 1.0\n",
      "k= 4 正确率 1.0\n",
      "k= 5 正确率 1.0\n",
      "k= 6 正确率 1.0\n",
      "k= 7 正确率 1.0\n",
      "k= 8 正确率 1.0\n",
      "k= 9 正确率 1.0\n",
      "k= 10 正确率 1.0\n",
      "k= 11 正确率 1.0\n",
      "k= 12 正确率 1.0\n",
      "k= 13 正确率 1.0\n",
      "k= 14 正确率 1.0\n"
     ]
    }
   ],
   "source": [
    "# 由于 KNN 是懒惰学习，不需要训练，在此我们直接进行测试集的预测和超参数的优选。\n",
    "with tf.Session() as sess:\n",
    "    sess.run(init)\n",
    "    for i in range(1, 15):\n",
    "        acc = 0\n",
    "        for j in range(30):\n",
    "            dists = sess.run(dist, feed_dict={train : x_train, \n",
    "                                              test : x_test[j], k : i})\n",
    "            index = np.array(dists, dtype='float32')\n",
    "            index = heapq.nsmallest(i, range(120), index.take)\n",
    "            tmp_l = []\n",
    "            for m in range(len(index)):\n",
    "                tmp_l.append(y_train[index[m]])\n",
    "            if Counter(tmp_l).most_common(1)[0][0] == y_test[j]:\n",
    "                acc += 1\n",
    "        print(\"k=\",i,\"正确率\",acc / 30)"
   ]
  },
  {
   "cell_type": "code",
   "execution_count": null,
   "metadata": {},
   "outputs": [],
   "source": []
  }
 ],
 "metadata": {
  "kernelspec": {
   "display_name": "Python 3",
   "language": "python",
   "name": "python3"
  },
  "language_info": {
   "codemirror_mode": {
    "name": "ipython",
    "version": 3
   },
   "file_extension": ".py",
   "mimetype": "text/x-python",
   "name": "python",
   "nbconvert_exporter": "python",
   "pygments_lexer": "ipython3",
   "version": "3.5.2"
  }
 },
 "nbformat": 4,
 "nbformat_minor": 2
}
