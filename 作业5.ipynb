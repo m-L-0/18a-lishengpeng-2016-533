{
 "cells": [
  {
   "cell_type": "code",
   "execution_count": 1,
   "metadata": {},
   "outputs": [],
   "source": [
    "import tensorflow as tf\n",
    "import numpy as np"
   ]
  },
  {
   "cell_type": "code",
   "execution_count": 2,
   "metadata": {},
   "outputs": [
    {
     "name": "stdout",
     "output_type": "stream",
     "text": [
      "[1, 2]\n"
     ]
    }
   ],
   "source": [
    "#两个创建variable的方法\n",
    "#tf.Variable每次调用都会创建一个新的变量，\n",
    "#如果变量名字相同，就在后面加\n",
    "import tensorflow as tf\n",
    "first_a=tf.Variable(1,name='v',\n",
    "                    dtype=tf.int64)\n",
    "second_a=tf.Variable(2,name='v',\n",
    "                    dtype=tf.int64)\n",
    "with tf.Session() as sess:\n",
    "    sess.run(tf.global_variables_initializer())\n",
    "    print(sess.run([first_a,second_a]))"
   ]
  },
  {
   "cell_type": "code",
   "execution_count": 3,
   "metadata": {},
   "outputs": [
    {
     "name": "stdout",
     "output_type": "stream",
     "text": [
      "var_scope/z1:0\n",
      "var_scope/z1:0\n"
     ]
    }
   ],
   "source": [
    "#tf.get_variable的做法是，如果这个变量名字已经存在了\n",
    "#，就拿这个变量，不再创建新的变量。\n",
    "#但是需要注意的是，\n",
    "#一定要在scope中，使用reuse这个选项\n",
    "#不使用reuse是不能get_variable相同名字的变量的\n",
    "#；而使用resue又只能在variable_scope中\n",
    "with tf.variable_scope('var_scope') as scope:\n",
    "    v=tf.get_variable(name='z1',shape=[1],\n",
    "                     initializer=tf.zeros_initializer)\n",
    "with tf.variable_scope(scope,reuse=True):\n",
    "    v1=tf.get_variable(name='z1',shape=[1],\n",
    "                      initializer=tf.zeros_initializer())\n",
    "with tf.Session() as sess:\n",
    "    sess.run(tf.global_variables_initializer())\n",
    "#python assert断言是声明其布尔值必须为真的判定，如果发生异常就说明表达示为假。可以理解assert断言语句为raise-if-not，\n",
    "#用来测试表示式，其返回值为假，就会触发异常。\n",
    "assert v==v1\n",
    "print(v.name)\n",
    "print(v1.name)"
   ]
  },
  {
   "cell_type": "code",
   "execution_count": 4,
   "metadata": {},
   "outputs": [
    {
     "name": "stdout",
     "output_type": "stream",
     "text": [
      "var1:0\n",
      "my_scope/var2:0\n",
      "my_scope/Add:0\n"
     ]
    }
   ],
   "source": [
    "#tf.name_scope中\n",
    "#对tf.get_variable不起作用，\n",
    "#只对tf.Variable起作用\n",
    "with tf.name_scope(\"my_scope\"):\n",
    "    v1=tf.get_variable(\"var1\",shape=[1],\n",
    "                       dtype=tf.float32)\n",
    "    v2=tf.Variable(1,name='var2',\n",
    "                  dtype=tf.float32)\n",
    "    a=tf.add(v1,v2)\n",
    "print(v1.name)\n",
    "print(v2.name)\n",
    "print(a.name)"
   ]
  },
  {
   "cell_type": "code",
   "execution_count": 5,
   "metadata": {},
   "outputs": [
    {
     "name": "stdout",
     "output_type": "stream",
     "text": [
      "my_scope1/var11:0\n",
      "my_scope1/var22:0\n",
      "my_scope1/Add:0\n"
     ]
    }
   ],
   "source": [
    "#tf.variable_scope中\n",
    "\n",
    "#对tf.get_variable和tf.Variable都起作用\n",
    "with tf.variable_scope('my_scope1'):\n",
    "    v1=tf.get_variable('var11',shape=[1],dtype=tf.float32)\n",
    "    v2=tf.Variable(1,name='var22',dtype=tf.float32)\n",
    "    a=tf.add(v1,v2)\n",
    "print(v1.name)\n",
    "print(v2.name)\n",
    "print(a.name)"
   ]
  },
  {
   "cell_type": "code",
   "execution_count": 6,
   "metadata": {},
   "outputs": [
    {
     "name": "stdout",
     "output_type": "stream",
     "text": [
      "var_scope/var:0\n",
      "var_scope/var:0\n"
     ]
    }
   ],
   "source": [
    "#这种机制允许在不用的name_scope中使用tf.get_variable来share变量，\n",
    "#但是需要注意的是，一定要声明reuse：\n",
    "with tf.name_scope('foo'):\n",
    "    with tf.variable_scope('var_scope'):\n",
    "        v=tf.get_variable('var',[1])\n",
    "with tf.name_scope('bar'):\n",
    "    with tf.variable_scope('var_scope',reuse=True):\n",
    "        v1=tf.get_variable('var',[1])\n",
    "    assert v1==v\n",
    "    print(v.name)\n",
    "    print(v1.name)"
   ]
  }
 ],
 "metadata": {
  "kernelspec": {
   "display_name": "Python 3",
   "language": "python",
   "name": "python3"
  },
  "language_info": {
   "codemirror_mode": {
    "name": "ipython",
    "version": 3
   },
   "file_extension": ".py",
   "mimetype": "text/x-python",
   "name": "python",
   "nbconvert_exporter": "python",
   "pygments_lexer": "ipython3",
   "version": "3.5.2"
  }
 },
 "nbformat": 4,
 "nbformat_minor": 2
}
